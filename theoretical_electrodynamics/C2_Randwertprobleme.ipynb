{
 "cells": [
  {
   "cell_type": "markdown",
   "metadata": {},
   "source": [
    "Entwickeln Sie mit einem Separationsansatz das Potential $\\Phi(x, y)$ in einem ladungsfreien Rechteck all-\n",
    "gemein für n Basisfunktionen unter folgenden Randbedingungen:\n",
    "$\\begin{equation*}\n",
    "    (x, 0) ≡ 0 für x ∈ [0, a] , \\\\\n",
    "    φ(0, y) ≡ 0 für y ∈ [0, b) , \\\\\n",
    "    φ(a, y) ≡ 0 für y ∈ [0, b) , \\\\\n",
    "    φ(x, b) = V (x) für x ∈ [0, a) mit V (x) = \n",
    "\\end{equation*}$\n",
    "\n",
    "Als Basisfunktionen sollten Sie einmal die Funktionen √2/a sin(nπx/a), die Sie bereits aus der Prä-\n",
    "senzübung kennen, und die Funktionen √2/a sinh(nπy/a) erhalten, so dass das Potential gegeben ist\n",
    "als\n",
    "\n",
    "\n"
   ]
  },
  {
   "cell_type": "markdown",
   "metadata": {},
   "source": [
    "Aufgabenteil a: $\\\\$\n",
    "Stellen Sie V (x) graphisch in einer Abbildung dar. Definieren sie dazu die Funktion V (x) so, dass\n",
    "sie direkt auf numpy arrays asugewertet werden kann. Die Fallunterscheidung sollten Sie daher\n",
    "nicht mit einer if-Anweisung erreichen, sondern mit Hilfe von numpy.heaviside. Sie dürfen im\n",
    "Folgenden die Konstanten a, b, V0 gleich 1 setzen."
   ]
  },
  {
   "cell_type": "code",
   "execution_count": null,
   "metadata": {},
   "outputs": [],
   "source": [
    "import numpy as np\n",
    "from matplotlib import pyplot as plt\n",
    "\n",
    "a, b, V_0 = 1\n",
    "\n"
   ]
  },
  {
   "cell_type": "markdown",
   "metadata": {},
   "source": [
    "Interpretation:\n"
   ]
  },
  {
   "cell_type": "markdown",
   "metadata": {},
   "source": [
    "Aufgabenteil b: $\\\\$\n",
    "Programmieren Sie die Berechnung der Entwicklungskoeffizienten Cn für beliebiges n sowie die\n",
    "Approximation des Potentials φ(x, y) bis zu einer maximalen Anzahl k von Koeffizienten.\n",
    "Hinweis: Zur Ausführung des Integrals können Sie zuvor den Integranden f definieren als lambda-\n",
    "Ausdruck f = lambda x: np.sin(n*np.pi*x/a) * V(x) und anschließend für die numeri-\n",
    "sche Integration die Funktion quad aus dem Modul scpipy.integrate auf f anwenden."
   ]
  },
  {
   "cell_type": "code",
   "execution_count": null,
   "metadata": {},
   "outputs": [],
   "source": []
  },
  {
   "cell_type": "markdown",
   "metadata": {},
   "source": [
    "Interpretation:"
   ]
  },
  {
   "cell_type": "markdown",
   "metadata": {},
   "source": [
    "Aufgabenteil c:$\\\\$\n",
    "Stellen Sie für a = b = 1 das Potential φ(x, y) jeweils für k = 1, 3, 5, . . . , 11 graphisch dreidimen-\n",
    "sional dar, also φ(x, y) über der xy-Ebene, wobei k jeweils den höchsten Term der Entwicklung\n",
    "bezeichnet.$\\\\$\n",
    "$Hinweis$: Hierfür müssen Sie das Modul mpl_toolkits.mplot3d importieren und bei Ihren Plots\n",
    "den Parameter projection=’3d’ setzen. $\\\\$\n",
    "$Achtung$: Dies funktioniert leider nicht bei Verwen-\n",
    "dung von pyplot.subplots, aber bei figure.add_subplot. Einen 3d-Plot können Sie z.B.\n",
    "mit dem Befehl axes.plot_surface erstellen. Zur Erstellung der xy-Daten kann die Funktion\n",
    "numpy.meshgrid nützlich sein. Zur automatischen Erstellung mehrerer ähnlicher Plots nutzen Sie\n",
    "am besten eine for-Schleife."
   ]
  },
  {
   "cell_type": "code",
   "execution_count": null,
   "metadata": {},
   "outputs": [],
   "source": []
  },
  {
   "cell_type": "markdown",
   "metadata": {},
   "source": [
    "Interpretation:"
   ]
  },
  {
   "cell_type": "markdown",
   "metadata": {},
   "source": [
    "Aufgabenteil d:$\\\\$\n",
    "Überlagern Sie zudem in einer Abbildung die Näherungen für φ(x, b) für die gesamten Werte von\n",
    "k, die Sie in (c) verwendet haben. Das ist also ein zwei-dimensionaler Plot, der zeigt, wie gut das\n",
    "Potential φ das vorgegebene Potential V (x) auf dem Rand approximiert."
   ]
  },
  {
   "cell_type": "code",
   "execution_count": null,
   "metadata": {},
   "outputs": [],
   "source": []
  },
  {
   "cell_type": "markdown",
   "metadata": {},
   "source": [
    "Interpretation:"
   ]
  },
  {
   "cell_type": "markdown",
   "metadata": {},
   "source": [
    "Aufgabenteil e:\n",
    "Erstellen Sie zum Vergleich nun Abbildungen für Näherungen von φ(x, y) als dreimensionalen Plot\n",
    "und φ(x, b) als zweidimensionalen Plot für einen hohen Wert von k, zum Beispiel 137."
   ]
  },
  {
   "cell_type": "code",
   "execution_count": null,
   "metadata": {},
   "outputs": [],
   "source": []
  },
  {
   "cell_type": "markdown",
   "metadata": {},
   "source": [
    "Interpretation:"
   ]
  }
 ],
 "metadata": {
  "interpreter": {
   "hash": "e7370f93d1d0cde622a1f8e1c04877d8463912d04d973331ad4851f04de6915a"
  },
  "kernelspec": {
   "display_name": "Python 3.9.12 64-bit",
   "language": "python",
   "name": "python3"
  },
  "language_info": {
   "name": "python",
   "version": "3.9.12"
  },
  "orig_nbformat": 4
 },
 "nbformat": 4,
 "nbformat_minor": 2
}
